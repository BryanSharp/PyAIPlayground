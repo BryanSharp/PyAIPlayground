{
 "cells": [
  {
   "cell_type": "code",
   "execution_count": 4,
   "metadata": {},
   "outputs": [
    {
     "data": {
      "text/plain": [
       "0      0.811742\n",
       "1     -0.256970\n",
       "2     -0.291310\n",
       "3     -0.155345\n",
       "4      0.980911\n",
       "         ...   \n",
       "495    1.728236\n",
       "496   -1.129706\n",
       "497    0.030079\n",
       "498   -1.479930\n",
       "499   -0.027815\n",
       "Length: 500, dtype: float64"
      ]
     },
     "execution_count": 4,
     "metadata": {},
     "output_type": "execute_result"
    }
   ],
   "source": [
    "# 统计值\n",
    "import pandas as pd\n",
    "import numpy as np\n",
    "s=pd.Series(np.random.randn(500))\n",
    "s"
   ]
  },
  {
   "cell_type": "code",
   "execution_count": 6,
   "metadata": {},
   "outputs": [
    {
     "data": {
      "text/plain": [
       "count    500.000000\n",
       "mean      -0.030979\n",
       "std        0.952750\n",
       "min       -3.086843\n",
       "5%        -1.621586\n",
       "25%       -0.643058\n",
       "50%       -0.031051\n",
       "75%        0.597341\n",
       "95%        1.492963\n",
       "max        2.386318\n",
       "dtype: float64"
      ]
     },
     "execution_count": 6,
     "metadata": {},
     "output_type": "execute_result"
    }
   ],
   "source": [
    "s.describe(percentiles=[.05,.25,.75,.95])"
   ]
  },
  {
   "cell_type": "code",
   "execution_count": 12,
   "metadata": {},
   "outputs": [
    {
     "name": "stdout",
     "output_type": "stream",
     "text": [
      "[-0.37686671 -0.01590866 -0.65540405  1.4136788   0.61618452]\n"
     ]
    },
    {
     "data": {
      "text/plain": [
       "[(-0.657, -0.138], (-0.138, 0.379], (-0.657, -0.138], (0.896, 1.414], (0.379, 0.896]]\n",
       "Categories (4, interval[float64]): [(-0.657, -0.138] < (-0.138, 0.379] < (0.379, 0.896] < (0.896, 1.414]]"
      ]
     },
     "execution_count": 12,
     "metadata": {},
     "output_type": "execute_result"
    }
   ],
   "source": [
    "# 离散化\n",
    "arr=np.random.randn(5)\n",
    "print(arr)\n",
    "factor=pd.cut(arr,4)\n",
    "factor"
   ]
  },
  {
   "cell_type": "code",
   "execution_count": 15,
   "metadata": {},
   "outputs": [
    {
     "data": {
      "text/plain": [
       "[(-4, 0], (-4, 0], (-4, 0], (0, 2], (0, 2]]\n",
       "Categories (3, interval[int64]): [(-4, 0] < (0, 2] < (2, 7]]"
      ]
     },
     "execution_count": 15,
     "metadata": {},
     "output_type": "execute_result"
    }
   ],
   "source": [
    "pd.cut(arr,[-4,0,2,7])"
   ]
  },
  {
   "cell_type": "code",
   "execution_count": 16,
   "metadata": {},
   "outputs": [
    {
     "data": {
      "text/plain": [
       "array([3, 2, 0, 1, 2, 0, 4, 0, 4, 5, 4, 2, 3, 0, 3, 5, 6, 5, 1, 5, 1, 6,\n",
       "       3, 3, 2, 0, 1, 1, 5, 1, 3, 2, 2, 4, 5, 4, 1, 1, 2, 2, 6, 0, 6, 1,\n",
       "       1, 2, 0, 3, 2, 3])"
      ]
     },
     "execution_count": 16,
     "metadata": {},
     "output_type": "execute_result"
    }
   ],
   "source": [
    "# histogram\n",
    "data=np.random.randint(0,7,size=50)\n",
    "data"
   ]
  },
  {
   "cell_type": "code",
   "execution_count": 17,
   "metadata": {},
   "outputs": [
    {
     "data": {
      "text/plain": [
       "2    10\n",
       "1    10\n",
       "3     8\n",
       "0     7\n",
       "5     6\n",
       "4     5\n",
       "6     4\n",
       "dtype: int64"
      ]
     },
     "execution_count": 17,
     "metadata": {},
     "output_type": "execute_result"
    }
   ],
   "source": [
    "s=pd.Series(data)\n",
    "s.value_counts()"
   ]
  },
  {
   "cell_type": "code",
   "execution_count": 18,
   "metadata": {},
   "outputs": [
    {
     "data": {
      "text/plain": [
       "CountVectorizer(analyzer='word', binary=False, decode_error='strict',\n",
       "                dtype=<class 'numpy.int64'>, encoding='utf-8', input='content',\n",
       "                lowercase=True, max_df=1.0, max_features=None, min_df=1,\n",
       "                ngram_range=(1, 1), preprocessor=None, stop_words=None,\n",
       "                strip_accents=None, token_pattern='(?u)\\\\b\\\\w\\\\w+\\\\b',\n",
       "                tokenizer=None, vocabulary=None)"
      ]
     },
     "execution_count": 18,
     "metadata": {},
     "output_type": "execute_result"
    }
   ],
   "source": [
    "# 文本型处理\n",
    "from sklearn.feature_extraction.text import CountVectorizer\n",
    "vectorizer=CountVectorizer(min_df=1)\n",
    "vectorizer"
   ]
  },
  {
   "cell_type": "code",
   "execution_count": 19,
   "metadata": {},
   "outputs": [
    {
     "data": {
      "text/plain": [
       "<4x13 sparse matrix of type '<class 'numpy.int64'>'\n",
       "\twith 21 stored elements in Compressed Sparse Row format>"
      ]
     },
     "execution_count": 19,
     "metadata": {},
     "output_type": "execute_result"
    }
   ],
   "source": [
    "corpus=[\n",
    "    'This is the first doc.','this is the second doc.',\n",
    "    'and here comes the third one','so which one is this one?']\n",
    "X=vectorizer.fit_transform(corpus)\n",
    "X"
   ]
  },
  {
   "cell_type": "code",
   "execution_count": 21,
   "metadata": {},
   "outputs": [
    {
     "data": {
      "text/plain": [
       "(0.7182483686213841, 7.324017312998504e-49)"
      ]
     },
     "execution_count": 21,
     "metadata": {},
     "output_type": "execute_result"
    }
   ],
   "source": [
    "from scipy.stats import pearsonr\n",
    "np.random.seed(0)\n",
    "size=300\n",
    "x=np.random.normal(0,1,size)\n",
    "pearsonr(x,x+np.random.normal(0,1,size))"
   ]
  },
  {
   "cell_type": "code",
   "execution_count": 22,
   "metadata": {},
   "outputs": [
    {
     "data": {
      "text/plain": [
       "(0.05796429207933815, 0.31700993885325246)"
      ]
     },
     "execution_count": 22,
     "metadata": {},
     "output_type": "execute_result"
    }
   ],
   "source": [
    "pearsonr(x,x+np.random.normal(0,10,size))"
   ]
  },
  {
   "cell_type": "code",
   "execution_count": null,
   "metadata": {},
   "outputs": [],
   "source": []
  }
 ],
 "metadata": {
  "kernelspec": {
   "display_name": "Python 3",
   "language": "python",
   "name": "python3"
  },
  "language_info": {
   "codemirror_mode": {
    "name": "ipython",
    "version": 3
   },
   "file_extension": ".py",
   "mimetype": "text/x-python",
   "name": "python",
   "nbconvert_exporter": "python",
   "pygments_lexer": "ipython3",
   "version": "3.7.6"
  }
 },
 "nbformat": 4,
 "nbformat_minor": 4
}
