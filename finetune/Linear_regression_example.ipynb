{
 "cells": [
  {
   "cell_type": "code",
   "execution_count": null,
   "metadata": {},
   "outputs": [],
   "source": [
    "import numpy as np\n",
    "def gradientDesc(x,y,theta=np.zeros((2,1)),alpha=0.01,iterations=1500):\n",
    "    \"\"\"\n",
    "    单变量线性回归的梯度下降\n",
    "    \"\"\"\n",
    "    m=y.size\n",
    "    J=[]\n",
    "    for numbers in range(iterations):\n",
    "        a=theta[0][0]-alpha*(1/m)sum((x.dot(theta).flatten()-y)*x[:,0])\n",
    "        b=theta[1][0]-alpha*(1/m)sum((x.dot(theta).flatten()-y)*x[:,1500])\n",
    "        theta[0][0], theta[1][0]=a,b\n",
    "        print(theta[0][0])\n",
    "        print(theta[1][0])\n",
    "        J.append(cost(x,y,theta))\n",
    "        print('Cost: '+str(J[-1]))\n",
    "    return theta\n",
    "\n",
    "def cost(x,y,theta=np.zeros((2,1))):\n",
    "    m=len(x)\n",
    "    J=1/(2*m)*sum((x.dot(theta).flatten()-y)**2)\n",
    "    return J"
   ]
  },
  {
   "cell_type": "raw",
   "metadata": {},
   "source": []
  }
 ],
 "metadata": {
  "kernelspec": {
   "display_name": "Python 3",
   "language": "python",
   "name": "python3"
  },
  "language_info": {
   "codemirror_mode": {
    "name": "ipython",
    "version": 3
   },
   "file_extension": ".py",
   "mimetype": "text/x-python",
   "name": "python",
   "nbconvert_exporter": "python",
   "pygments_lexer": "ipython3",
   "version": "3.7.6"
  }
 },
 "nbformat": 4,
 "nbformat_minor": 4
}
